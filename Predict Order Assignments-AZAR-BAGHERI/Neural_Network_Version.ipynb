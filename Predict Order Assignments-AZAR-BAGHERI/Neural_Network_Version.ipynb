{
  "nbformat": 4,
  "nbformat_minor": 0,
  "metadata": {
    "colab": {
      "provenance": []
    },
    "kernelspec": {
      "name": "python3",
      "display_name": "Python 3"
    },
    "language_info": {
      "name": "python"
    }
  },
  "cells": [
    {
      "cell_type": "code",
      "source": [
        "from google.colab import drive\n",
        "drive.mount('/content/drive', force_remount=True)"
      ],
      "metadata": {
        "id": "kHz83EC2DtTG",
        "colab": {
          "base_uri": "https://localhost:8080/"
        },
        "outputId": "1fff8f48-b5de-4c73-f3d3-ea89e3b16173"
      },
      "execution_count": null,
      "outputs": [
        {
          "output_type": "stream",
          "name": "stdout",
          "text": [
            "Mounted at /content/drive\n"
          ]
        }
      ]
    },
    {
      "cell_type": "code",
      "source": [
        "import pandas as pd\n",
        "from sklearn.model_selection import train_test_split\n",
        "from sklearn.preprocessing import LabelEncoder, StandardScaler\n",
        "\n",
        "\n",
        "data = pd.read_csv('/content/order-dataset.csv', sep=';')\n",
        "print(data.head())\n",
        "\n",
        "\n",
        "data = data.dropna()\n",
        "\n",
        "\n",
        "data['completed_at'] = pd.to_datetime(data['completed_at'])\n",
        "\n",
        "\n",
        "data['hour'] = data['completed_at'].dt.hour\n",
        "data['day'] = data['completed_at'].dt.day\n",
        "data['month'] = data['completed_at'].dt.month\n",
        "data['year'] = data['completed_at'].dt.year\n",
        "data['dayofweek'] = data['completed_at'].dt.dayofweek\n",
        "le = LabelEncoder()\n",
        "data['operator_id'] = le.fit_transform(data['operator_id'])\n",
        "X = data.drop(columns=['order_id', 'completed_at', 'operator_id'])\n",
        "y = data['operator_id']\n",
        "\n",
        "scaler = StandardScaler()\n",
        "X = scaler.fit_transform(X)\n",
        "\n",
        "\n",
        "X_train, X_test, y_train, y_test = train_test_split(X, y, test_size=0.2, random_state=42)\n",
        "\n",
        "\n"
      ],
      "metadata": {
        "id": "QXjAsjakC8hq",
        "colab": {
          "base_uri": "https://localhost:8080/"
        },
        "outputId": "45f14d62-b95d-4954-b25c-3ee423f19bb0"
      },
      "execution_count": null,
      "outputs": [
        {
          "output_type": "stream",
          "name": "stdout",
          "text": [
            "   order_id         completed_at  operator_id\n",
            "0         1  2022-01-01 21:36:00   operator_5\n",
            "1         2  2022-01-01 14:23:00  operator_11\n",
            "2         3  2022-01-01 14:27:00  operator_11\n",
            "3         4  2022-01-01 20:29:00  operator_15\n",
            "4         5  2022-01-01 13:45:00  operator_11\n"
          ]
        }
      ]
    },
    {
      "cell_type": "code",
      "source": [
        "\n",
        "import tensorflow as tf\n",
        "from tensorflow.keras.models import Sequential\n",
        "from tensorflow.keras.layers import Dense\n",
        "\n",
        "# Build the model\n",
        "model = Sequential()\n",
        "model.add(Dense(64, input_dim=X_train.shape[1], activation='relu'))\n",
        "model.add(Dense(32, activation='relu'))\n",
        "model.add(Dense(len(data['operator_id'].unique()), activation='softmax'))\n",
        "\n",
        "# Compile the model\n",
        "model.compile(optimizer='adam', loss='sparse_categorical_crossentropy', metrics=['accuracy'])\n",
        "\n",
        "# Train the model\n",
        "model.fit(X_train, y_train, epochs=10, batch_size=32, validation_split=0.2)\n",
        "\n",
        "# Evaluate the model\n",
        "loss, accuracy = model.evaluate(X_test, y_test)\n",
        "print(f'Neural Network Accuracy: {accuracy}')\n",
        "\n",
        "\n"
      ],
      "metadata": {
        "id": "Yo9YmWqEDC-K",
        "colab": {
          "base_uri": "https://localhost:8080/"
        },
        "outputId": "bafeffbf-f1f9-4d2e-a967-554039e2dfb9"
      },
      "execution_count": null,
      "outputs": [
        {
          "output_type": "stream",
          "name": "stderr",
          "text": [
            "/usr/local/lib/python3.10/dist-packages/keras/src/layers/core/dense.py:87: UserWarning: Do not pass an `input_shape`/`input_dim` argument to a layer. When using Sequential models, prefer using an `Input(shape)` object as the first layer in the model instead.\n",
            "  super().__init__(activity_regularizer=activity_regularizer, **kwargs)\n"
          ]
        },
        {
          "output_type": "stream",
          "name": "stdout",
          "text": [
            "Epoch 1/10\n",
            "\u001b[1m4380/4380\u001b[0m \u001b[32m━━━━━━━━━━━━━━━━━━━━\u001b[0m\u001b[37m\u001b[0m \u001b[1m18s\u001b[0m 4ms/step - accuracy: 0.0684 - loss: 2.9772 - val_accuracy: 0.0875 - val_loss: 2.9405\n",
            "Epoch 2/10\n",
            "\u001b[1m4380/4380\u001b[0m \u001b[32m━━━━━━━━━━━━━━━━━━━━\u001b[0m\u001b[37m\u001b[0m \u001b[1m14s\u001b[0m 3ms/step - accuracy: 0.0943 - loss: 2.9274 - val_accuracy: 0.1011 - val_loss: 2.9068\n",
            "Epoch 3/10\n",
            "\u001b[1m4380/4380\u001b[0m \u001b[32m━━━━━━━━━━━━━━━━━━━━\u001b[0m\u001b[37m\u001b[0m \u001b[1m19s\u001b[0m 3ms/step - accuracy: 0.1021 - loss: 2.8974 - val_accuracy: 0.1046 - val_loss: 2.8817\n",
            "Epoch 4/10\n",
            "\u001b[1m4380/4380\u001b[0m \u001b[32m━━━━━━━━━━━━━━━━━━━━\u001b[0m\u001b[37m\u001b[0m \u001b[1m13s\u001b[0m 3ms/step - accuracy: 0.1110 - loss: 2.8688 - val_accuracy: 0.1114 - val_loss: 2.8625\n",
            "Epoch 5/10\n",
            "\u001b[1m4380/4380\u001b[0m \u001b[32m━━━━━━━━━━━━━━━━━━━━\u001b[0m\u001b[37m\u001b[0m \u001b[1m11s\u001b[0m 3ms/step - accuracy: 0.1169 - loss: 2.8524 - val_accuracy: 0.1193 - val_loss: 2.8498\n",
            "Epoch 6/10\n",
            "\u001b[1m4380/4380\u001b[0m \u001b[32m━━━━━━━━━━━━━━━━━━━━\u001b[0m\u001b[37m\u001b[0m \u001b[1m12s\u001b[0m 3ms/step - accuracy: 0.1232 - loss: 2.8314 - val_accuracy: 0.1226 - val_loss: 2.8325\n",
            "Epoch 7/10\n",
            "\u001b[1m4380/4380\u001b[0m \u001b[32m━━━━━━━━━━━━━━━━━━━━\u001b[0m\u001b[37m\u001b[0m \u001b[1m21s\u001b[0m 3ms/step - accuracy: 0.1268 - loss: 2.8204 - val_accuracy: 0.1247 - val_loss: 2.8237\n",
            "Epoch 8/10\n",
            "\u001b[1m4380/4380\u001b[0m \u001b[32m━━━━━━━━━━━━━━━━━━━━\u001b[0m\u001b[37m\u001b[0m \u001b[1m10s\u001b[0m 2ms/step - accuracy: 0.1307 - loss: 2.8091 - val_accuracy: 0.1295 - val_loss: 2.8149\n",
            "Epoch 9/10\n",
            "\u001b[1m4380/4380\u001b[0m \u001b[32m━━━━━━━━━━━━━━━━━━━━\u001b[0m\u001b[37m\u001b[0m \u001b[1m12s\u001b[0m 3ms/step - accuracy: 0.1333 - loss: 2.7974 - val_accuracy: 0.1303 - val_loss: 2.8060\n",
            "Epoch 10/10\n",
            "\u001b[1m4380/4380\u001b[0m \u001b[32m━━━━━━━━━━━━━━━━━━━━\u001b[0m\u001b[37m\u001b[0m \u001b[1m20s\u001b[0m 3ms/step - accuracy: 0.1371 - loss: 2.7896 - val_accuracy: 0.1361 - val_loss: 2.7955\n",
            "\u001b[1m1369/1369\u001b[0m \u001b[32m━━━━━━━━━━━━━━━━━━━━\u001b[0m\u001b[37m\u001b[0m \u001b[1m2s\u001b[0m 2ms/step - accuracy: 0.1376 - loss: 2.8029\n",
            "Neural Network Accuracy: 0.13692092895507812\n"
          ]
        }
      ]
    },
    {
      "cell_type": "code",
      "source": [
        "\n",
        "\n",
        "from sklearn.tree import DecisionTreeClassifier\n",
        "from sklearn.metrics import accuracy_score\n",
        "\n",
        "# Build the model\n",
        "dt_model = DecisionTreeClassifier()\n",
        "\n",
        "# Train the model\n",
        "dt_model.fit(X_train, y_train)\n",
        "\n",
        "# Predict and evaluate\n",
        "y_pred_dt = dt_model.predict(X_test)\n",
        "accuracy_dt = accuracy_score(y_test, y_pred_dt)\n",
        "print(f'Decision Tree Accuracy: {accuracy_dt}')\n",
        "\n"
      ],
      "metadata": {
        "id": "rspiA4A7DFY5",
        "colab": {
          "base_uri": "https://localhost:8080/"
        },
        "outputId": "f2df384b-c219-446a-ea90-9662b44ff71a"
      },
      "execution_count": null,
      "outputs": [
        {
          "output_type": "stream",
          "name": "stdout",
          "text": [
            "Decision Tree Accuracy: 0.3211717162492294\n"
          ]
        }
      ]
    },
    {
      "cell_type": "code",
      "source": [
        "\n",
        "\n",
        "from sklearn.ensemble import RandomForestClassifier\n",
        "\n",
        "# Build the model\n",
        "rf_model = RandomForestClassifier(n_estimators=100)\n",
        "\n",
        "# Train the model\n",
        "rf_model.fit(X_train, y_train)\n",
        "\n",
        "# Predict and evaluate\n",
        "y_pred_rf = rf_model.predict(X_test)\n",
        "accuracy_rf = accuracy_score(y_test, y_pred_rf)\n",
        "print(f'Random Forest Accuracy: {accuracy_rf}')\n",
        "\n",
        "\n"
      ],
      "metadata": {
        "id": "J5dsanYQDI6m",
        "colab": {
          "base_uri": "https://localhost:8080/"
        },
        "outputId": "25e2d456-0eca-4f08-847d-39a5d781f6ce"
      },
      "execution_count": null,
      "outputs": [
        {
          "output_type": "stream",
          "name": "stdout",
          "text": [
            "Random Forest Accuracy: 0.32130870567821185\n"
          ]
        }
      ]
    },
    {
      "cell_type": "code",
      "source": [
        "\n",
        "\n",
        "from sklearn.neighbors import KNeighborsClassifier\n",
        "\n",
        "# Build the model\n",
        "knn_model = KNeighborsClassifier(n_neighbors=5)\n",
        "\n",
        "# Train the model\n",
        "knn_model.fit(X_train, y_train)\n",
        "\n",
        "# Predict and evaluate\n",
        "y_pred_knn = knn_model.predict(X_test)\n",
        "accuracy_knn = accuracy_score(y_test, y_pred_knn)\n",
        "print(f'KNN Accuracy: {accuracy_knn}')\n",
        "\n",
        "\n"
      ],
      "metadata": {
        "id": "8QHN7eGMDKdX",
        "colab": {
          "base_uri": "https://localhost:8080/"
        },
        "outputId": "e5757121-5d8e-44be-cc66-adffdcb52b71"
      },
      "execution_count": null,
      "outputs": [
        {
          "output_type": "stream",
          "name": "stdout",
          "text": [
            "KNN Accuracy: 0.31891139067101987\n"
          ]
        }
      ]
    },
    {
      "cell_type": "code",
      "source": [
        "\n",
        "\n",
        "import matplotlib.pyplot as plt\n",
        "import seaborn as sns\n",
        "\n",
        "# Visualize operator assignment patterns\n",
        "sns.countplot(x='operator_id', data=data)\n",
        "plt.title('Operator Assignment Distribution')\n",
        "plt.show()\n"
      ],
      "metadata": {
        "id": "AVJ6iDhGDMWj",
        "colab": {
          "base_uri": "https://localhost:8080/",
          "height": 472
        },
        "outputId": "cbda0443-914c-4662-811a-270a2c6367e8"
      },
      "execution_count": null,
      "outputs": [
        {
          "output_type": "display_data",
          "data": {
            "text/plain": [
              "<Figure size 640x480 with 1 Axes>"
            ],
            "image/png": "[encoded data removed]"
          },
          "metadata": {}
        }
      ]
    }
  ]
}