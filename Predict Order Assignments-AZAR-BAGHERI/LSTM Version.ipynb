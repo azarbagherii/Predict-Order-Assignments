{
  "nbformat": 4,
  "nbformat_minor": 0,
  "metadata": {
    "colab": {
      "provenance": [],
      "gpuType": "V28"
    },
    "kernelspec": {
      "name": "python3",
      "display_name": "Python 3"
    },
    "language_info": {
      "name": "python"
    },
    "accelerator": "TPU"
  },
  "cells": [
    {
      "cell_type": "code",
      "source": [
        "import numpy as np\n",
        "import pandas as pd\n",
        "from sklearn.preprocessing import LabelEncoder\n",
        "from sklearn.model_selection import train_test_split\n",
        "from keras.models import Sequential\n",
        "from keras.layers import LSTM, Dense, Dropout\n",
        "from tensorflow.keras.preprocessing.sequence import TimeseriesGenerator\n",
        "file_path = '/content/order-dataset.csv'\n",
        "data = pd.read_csv(file_path, delimiter=';')\n",
        "data['completed_at'] = pd.to_datetime(data['completed_at'])\n",
        "data.dropna(inplace=True)\n",
        "data['hour'] = data['completed_at'].dt.hour\n",
        "data['day_of_week'] = data['completed_at'].dt.dayofweek\n",
        "data['month'] = data['completed_at'].dt.month\n",
        "data.drop(columns=['completed_at'], inplace=True)\n",
        "\n",
        "\n",
        "label_encoder = LabelEncoder()\n",
        "data['operator_id'] = label_encoder.fit_transform(data['operator_id'])\n",
        "\n",
        "\n",
        "X = data.drop(columns=['operator_id', 'order_id'])\n",
        "y = data['operator_id']"
      ],
      "metadata": {
        "id": "mW6hx5LWdrId"
      },
      "execution_count": 1,
      "outputs": []
    },
    {
      "cell_type": "code",
      "source": [
        "\n",
        "window_size = 20\n",
        "generator = TimeseriesGenerator(X, y, length=window_size, batch_size=100)\n",
        "\n",
        "\n",
        "num_samples = len(generator)\n",
        "\n",
        "\n",
        "train_size = int(num_samples * 0.7)\n",
        "\n",
        "train_generator = TimeseriesGenerator(X, y, length=window_size, batch_size=1, end_index=train_size)\n",
        "test_generator = TimeseriesGenerator(X, y, length=window_size, batch_size=1, start_index=train_size)"
      ],
      "metadata": {
        "id": "edO3RlmBeKXg"
      },
      "execution_count": 2,
      "outputs": []
    },
    {
      "cell_type": "code",
      "source": [
        "# Build the GRU model\n",
        "model = Sequential()\n",
        "model.add(LSTM(32, activation='leaky_relu', input_shape=(window_size, X.shape[1]), return_sequences=True))\n",
        "model.add(LSTM(20, activation='leaky_relu'))\n",
        "model.add(Dense(len(label_encoder.classes_), activation='softmax'))\n",
        "\n",
        "# Compile the model\n",
        "model.compile(optimizer='adam', loss='sparse_categorical_crossentropy', metrics=['accuracy'])\n"
      ],
      "metadata": {
        "id": "NQs5lsG8dryZ"
      },
      "execution_count": 3,
      "outputs": []
    },
    {
      "cell_type": "code",
      "source": [
        "# Train the model\n",
        "model.fit(train_generator, epochs=10, validation_data=test_generator)"
      ],
      "metadata": {
        "colab": {
          "base_uri": "https://localhost:8080/"
        },
        "id": "lEXMVtxMeMcq",
        "outputId": "f713b1be-9e2b-4dd2-dabb-c82a3fb0c862"
      },
      "execution_count": 4,
      "outputs": [
        {
          "output_type": "stream",
          "name": "stdout",
          "text": [
            "Epoch 1/10\n",
            "1514/1514 [==============================] - 510s 335ms/step - loss: 2.7461 - accuracy: 0.1268 - val_loss: 4.9782 - val_accuracy: 0.0458\n",
            "Epoch 2/10\n",
            "1514/1514 [==============================] - 504s 333ms/step - loss: 2.2409 - accuracy: 0.2166 - val_loss: 5.0573 - val_accuracy: 0.0457\n",
            "Epoch 3/10\n",
            "1514/1514 [==============================] - 508s 336ms/step - loss: 1.9931 - accuracy: 0.2583 - val_loss: 5.6143 - val_accuracy: 0.0441\n",
            "Epoch 4/10\n",
            "1514/1514 [==============================] - 501s 331ms/step - loss: 1.9642 - accuracy: 0.2569 - val_loss: 4.6773 - val_accuracy: 0.0465\n",
            "Epoch 5/10\n",
            "1514/1514 [==============================] - 509s 337ms/step - loss: 1.8821 - accuracy: 0.2801 - val_loss: 5.2539 - val_accuracy: 0.0441\n",
            "Epoch 6/10\n",
            "1514/1514 [==============================] - 508s 336ms/step - loss: 1.8556 - accuracy: 0.2754 - val_loss: 5.8140 - val_accuracy: 0.0443\n",
            "Epoch 7/10\n",
            "1514/1514 [==============================] - 510s 337ms/step - loss: 1.8392 - accuracy: 0.2682 - val_loss: 6.1676 - val_accuracy: 0.0448\n",
            "Epoch 8/10\n",
            "1514/1514 [==============================] - 497s 328ms/step - loss: 1.7931 - accuracy: 0.2959 - val_loss: 7.4241 - val_accuracy: 0.0453\n",
            "Epoch 9/10\n",
            "1514/1514 [==============================] - 493s 326ms/step - loss: 1.7518 - accuracy: 0.2834 - val_loss: 8.8467 - val_accuracy: 0.0469\n",
            "Epoch 10/10\n",
            "1514/1514 [==============================] - 499s 330ms/step - loss: 1.7286 - accuracy: 0.2834 - val_loss: 8.6243 - val_accuracy: 0.0499\n"
          ]
        },
        {
          "output_type": "execute_result",
          "data": {
            "text/plain": [
              "<keras.src.callbacks.History at 0x7f343802ee90>"
            ]
          },
          "metadata": {},
          "execution_count": 4
        }
      ]
    },
    {
      "cell_type": "code",
      "source": [
        "# Evaluate the model\n",
        "loss, accuracy = model.evaluate(test_generator)\n",
        "print(f\"Test Loss: {loss:.4f}\")\n",
        "print(f\"Test Accuracy: {accuracy:.4f}\")\n"
      ],
      "metadata": {
        "id": "SXYSaD3XeRFX",
        "colab": {
          "base_uri": "https://localhost:8080/"
        },
        "outputId": "cfab5b33-d967-4625-a86a-2368f636d80a"
      },
      "execution_count": 5,
      "outputs": [
        {
          "output_type": "stream",
          "name": "stdout",
          "text": [
            "217440/217440 [==============================] - 546s 3ms/step - loss: 8.6243 - accuracy: 0.0499\n",
            "Test Loss: 8.6243\n",
            "Test Accuracy: 0.0499\n"
          ]
        }
      ]
    },
    {
      "cell_type": "code",
      "source": [],
      "metadata": {
        "id": "g-bVaOE8ef5-"
      },
      "execution_count": null,
      "outputs": []
    }
  ]
}